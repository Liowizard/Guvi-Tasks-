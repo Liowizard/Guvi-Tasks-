{
 "cells": [
  {
   "cell_type": "markdown",
   "metadata": {
    "id": "yGiJQcI2v03C"
   },
   "source": [
    "###### Assessment"
   ]
  },
  {
   "cell_type": "markdown",
   "metadata": {
    "id": "WmgAfT2Uv03F"
   },
   "source": [
    "###### I am going to provide two .csv files , you are supposed to work on them and have to provide solutions to the following problems"
   ]
  },
  {
   "cell_type": "markdown",
   "metadata": {
    "id": "8CK4CaLzv03G"
   },
   "source": [
    "###### import necessary libraries"
   ]
  },
  {
   "cell_type": "code",
   "execution_count": 1,
   "metadata": {
    "id": "SY1WGnyhv03G"
   },
   "outputs": [],
   "source": [
    "import numpy as np\n",
    "import pandas as pd\n",
    "import matplotlib.pyplot as plt"
   ]
  },
  {
   "cell_type": "markdown",
   "metadata": {},
   "source": [
    "# "
   ]
  },
  {
   "cell_type": "markdown",
   "metadata": {
    "id": "w2UmyHiJv03H"
   },
   "source": [
    "###### merge those two csv files (after getting as dataframes, get them as a single dataframe)"
   ]
  },
  {
   "cell_type": "code",
   "execution_count": 2,
   "metadata": {
    "id": "hjqKcZ3Cv03H"
   },
   "outputs": [
    {
     "data": {
      "text/html": [
       "<div>\n",
       "<style scoped>\n",
       "    .dataframe tbody tr th:only-of-type {\n",
       "        vertical-align: middle;\n",
       "    }\n",
       "\n",
       "    .dataframe tbody tr th {\n",
       "        vertical-align: top;\n",
       "    }\n",
       "\n",
       "    .dataframe thead th {\n",
       "        text-align: right;\n",
       "    }\n",
       "</style>\n",
       "<table border=\"1\" class=\"dataframe\">\n",
       "  <thead>\n",
       "    <tr style=\"text-align: right;\">\n",
       "      <th></th>\n",
       "      <th>Name</th>\n",
       "      <th>python</th>\n",
       "      <th>mysql</th>\n",
       "      <th>Previous Geekions</th>\n",
       "      <th>CodeKata Score</th>\n",
       "      <th>Department</th>\n",
       "      <th>Rising</th>\n",
       "    </tr>\n",
       "  </thead>\n",
       "  <tbody>\n",
       "    <tr>\n",
       "      <th>0</th>\n",
       "      <td>A.Dharani</td>\n",
       "      <td>82.0</td>\n",
       "      <td>20.0</td>\n",
       "      <td>24500</td>\n",
       "      <td>24500</td>\n",
       "      <td>Computer Science and Engineering</td>\n",
       "      <td>0</td>\n",
       "    </tr>\n",
       "    <tr>\n",
       "      <th>1</th>\n",
       "      <td>V.JEEVITHA</td>\n",
       "      <td>82.0</td>\n",
       "      <td>20.0</td>\n",
       "      <td>21740</td>\n",
       "      <td>21740</td>\n",
       "      <td>Computer Science and Engineering</td>\n",
       "      <td>0</td>\n",
       "    </tr>\n",
       "    <tr>\n",
       "      <th>2</th>\n",
       "      <td>HEMAVATHI.R</td>\n",
       "      <td>100.0</td>\n",
       "      <td>100.0</td>\n",
       "      <td>19680</td>\n",
       "      <td>19680</td>\n",
       "      <td>Computer Science and Engineering</td>\n",
       "      <td>0</td>\n",
       "    </tr>\n",
       "    <tr>\n",
       "      <th>3</th>\n",
       "      <td>Mugunthan S</td>\n",
       "      <td>100.0</td>\n",
       "      <td>47.0</td>\n",
       "      <td>10610</td>\n",
       "      <td>10610</td>\n",
       "      <td>Computer Science and Engineering</td>\n",
       "      <td>0</td>\n",
       "    </tr>\n",
       "    <tr>\n",
       "      <th>4</th>\n",
       "      <td>Sathammai.S</td>\n",
       "      <td>100.0</td>\n",
       "      <td>8.0</td>\n",
       "      <td>8980</td>\n",
       "      <td>8980</td>\n",
       "      <td>Computer Science and Engineering</td>\n",
       "      <td>0</td>\n",
       "    </tr>\n",
       "  </tbody>\n",
       "</table>\n",
       "</div>"
      ],
      "text/plain": [
       "          Name  python  mysql  Previous Geekions  CodeKata Score  \\\n",
       "0    A.Dharani    82.0   20.0              24500           24500   \n",
       "1  V.JEEVITHA     82.0   20.0              21740           21740   \n",
       "2  HEMAVATHI.R   100.0  100.0              19680           19680   \n",
       "3  Mugunthan S   100.0   47.0              10610           10610   \n",
       "4  Sathammai.S   100.0    8.0               8980            8980   \n",
       "\n",
       "                         Department  Rising  \n",
       "0  Computer Science and Engineering       0  \n",
       "1  Computer Science and Engineering       0  \n",
       "2  Computer Science and Engineering       0  \n",
       "3  Computer Science and Engineering       0  \n",
       "4  Computer Science and Engineering       0  "
      ]
     },
     "execution_count": 2,
     "metadata": {},
     "output_type": "execute_result"
    }
   ],
   "source": [
    "A=pd.read_csv(\"college_1.csv\")\n",
    "B=pd.read_csv(\"college_2.csv\")\n",
    "A.head()"
   ]
  },
  {
   "cell_type": "markdown",
   "metadata": {},
   "source": [
    "### "
   ]
  },
  {
   "cell_type": "code",
   "execution_count": 3,
   "metadata": {},
   "outputs": [
    {
     "data": {
      "text/html": [
       "<div>\n",
       "<style scoped>\n",
       "    .dataframe tbody tr th:only-of-type {\n",
       "        vertical-align: middle;\n",
       "    }\n",
       "\n",
       "    .dataframe tbody tr th {\n",
       "        vertical-align: top;\n",
       "    }\n",
       "\n",
       "    .dataframe thead th {\n",
       "        text-align: right;\n",
       "    }\n",
       "</style>\n",
       "<table border=\"1\" class=\"dataframe\">\n",
       "  <thead>\n",
       "    <tr style=\"text-align: right;\">\n",
       "      <th></th>\n",
       "      <th>Name</th>\n",
       "      <th>python</th>\n",
       "      <th>mysql</th>\n",
       "      <th>Previous Geekions</th>\n",
       "      <th>CodeKata Score</th>\n",
       "      <th>Department</th>\n",
       "      <th>Rising</th>\n",
       "    </tr>\n",
       "  </thead>\n",
       "  <tbody>\n",
       "    <tr>\n",
       "      <th>0</th>\n",
       "      <td>ASHOK KUMAR K</td>\n",
       "      <td>100</td>\n",
       "      <td>31</td>\n",
       "      <td>19400</td>\n",
       "      <td>19400</td>\n",
       "      <td>Electronics and Electrical Engineering</td>\n",
       "      <td>0</td>\n",
       "    </tr>\n",
       "    <tr>\n",
       "      <th>1</th>\n",
       "      <td>Chandru</td>\n",
       "      <td>0</td>\n",
       "      <td>0</td>\n",
       "      <td>14150</td>\n",
       "      <td>14490</td>\n",
       "      <td>Computer Science and Engineering</td>\n",
       "      <td>340</td>\n",
       "    </tr>\n",
       "    <tr>\n",
       "      <th>2</th>\n",
       "      <td>Ganesh Ramkumar R</td>\n",
       "      <td>-1</td>\n",
       "      <td>24</td>\n",
       "      <td>8790</td>\n",
       "      <td>10790</td>\n",
       "      <td>Computer Science and Engineering</td>\n",
       "      <td>2000</td>\n",
       "    </tr>\n",
       "    <tr>\n",
       "      <th>3</th>\n",
       "      <td>Bodipudi Harini</td>\n",
       "      <td>-1</td>\n",
       "      <td>35</td>\n",
       "      <td>10040</td>\n",
       "      <td>10040</td>\n",
       "      <td>Electronics and Communication Engineering</td>\n",
       "      <td>0</td>\n",
       "    </tr>\n",
       "    <tr>\n",
       "      <th>4</th>\n",
       "      <td>VIINU V P</td>\n",
       "      <td>-1</td>\n",
       "      <td>24</td>\n",
       "      <td>9150</td>\n",
       "      <td>9150</td>\n",
       "      <td>Electronics and Electrical Engineering</td>\n",
       "      <td>0</td>\n",
       "    </tr>\n",
       "  </tbody>\n",
       "</table>\n",
       "</div>"
      ],
      "text/plain": [
       "                Name  python  mysql  Previous Geekions  CodeKata Score  \\\n",
       "0      ASHOK KUMAR K     100     31              19400           19400   \n",
       "1            Chandru       0      0              14150           14490   \n",
       "2  Ganesh Ramkumar R      -1     24               8790           10790   \n",
       "3    Bodipudi Harini      -1     35              10040           10040   \n",
       "4          VIINU V P      -1     24               9150            9150   \n",
       "\n",
       "                                  Department  Rising  \n",
       "0     Electronics and Electrical Engineering       0  \n",
       "1           Computer Science and Engineering     340  \n",
       "2           Computer Science and Engineering    2000  \n",
       "3  Electronics and Communication Engineering       0  \n",
       "4     Electronics and Electrical Engineering       0  "
      ]
     },
     "execution_count": 3,
     "metadata": {},
     "output_type": "execute_result"
    }
   ],
   "source": [
    "B=B.drop(['python_en', 'computational_thinking'], axis=1)\n",
    "B.head()"
   ]
  },
  {
   "cell_type": "markdown",
   "metadata": {},
   "source": [
    "### "
   ]
  },
  {
   "cell_type": "code",
   "execution_count": 4,
   "metadata": {},
   "outputs": [
    {
     "data": {
      "text/html": [
       "<div>\n",
       "<style scoped>\n",
       "    .dataframe tbody tr th:only-of-type {\n",
       "        vertical-align: middle;\n",
       "    }\n",
       "\n",
       "    .dataframe tbody tr th {\n",
       "        vertical-align: top;\n",
       "    }\n",
       "\n",
       "    .dataframe thead th {\n",
       "        text-align: right;\n",
       "    }\n",
       "</style>\n",
       "<table border=\"1\" class=\"dataframe\">\n",
       "  <thead>\n",
       "    <tr style=\"text-align: right;\">\n",
       "      <th></th>\n",
       "      <th>Name</th>\n",
       "      <th>python</th>\n",
       "      <th>mysql</th>\n",
       "      <th>Previous Geekions</th>\n",
       "      <th>CodeKata Score</th>\n",
       "      <th>Department</th>\n",
       "      <th>Rising</th>\n",
       "    </tr>\n",
       "  </thead>\n",
       "  <tbody>\n",
       "    <tr>\n",
       "      <th>0</th>\n",
       "      <td>A.Dharani</td>\n",
       "      <td>82.0</td>\n",
       "      <td>20.0</td>\n",
       "      <td>24500</td>\n",
       "      <td>24500</td>\n",
       "      <td>Computer Science and Engineering</td>\n",
       "      <td>0</td>\n",
       "    </tr>\n",
       "    <tr>\n",
       "      <th>1</th>\n",
       "      <td>V.JEEVITHA</td>\n",
       "      <td>82.0</td>\n",
       "      <td>20.0</td>\n",
       "      <td>21740</td>\n",
       "      <td>21740</td>\n",
       "      <td>Computer Science and Engineering</td>\n",
       "      <td>0</td>\n",
       "    </tr>\n",
       "    <tr>\n",
       "      <th>2</th>\n",
       "      <td>HEMAVATHI.R</td>\n",
       "      <td>100.0</td>\n",
       "      <td>100.0</td>\n",
       "      <td>19680</td>\n",
       "      <td>19680</td>\n",
       "      <td>Computer Science and Engineering</td>\n",
       "      <td>0</td>\n",
       "    </tr>\n",
       "    <tr>\n",
       "      <th>3</th>\n",
       "      <td>Mugunthan S</td>\n",
       "      <td>100.0</td>\n",
       "      <td>47.0</td>\n",
       "      <td>10610</td>\n",
       "      <td>10610</td>\n",
       "      <td>Computer Science and Engineering</td>\n",
       "      <td>0</td>\n",
       "    </tr>\n",
       "    <tr>\n",
       "      <th>4</th>\n",
       "      <td>Sathammai.S</td>\n",
       "      <td>100.0</td>\n",
       "      <td>8.0</td>\n",
       "      <td>8980</td>\n",
       "      <td>8980</td>\n",
       "      <td>Computer Science and Engineering</td>\n",
       "      <td>0</td>\n",
       "    </tr>\n",
       "    <tr>\n",
       "      <th>...</th>\n",
       "      <td>...</td>\n",
       "      <td>...</td>\n",
       "      <td>...</td>\n",
       "      <td>...</td>\n",
       "      <td>...</td>\n",
       "      <td>...</td>\n",
       "      <td>...</td>\n",
       "    </tr>\n",
       "    <tr>\n",
       "      <th>30</th>\n",
       "      <td>praveen raj j</td>\n",
       "      <td>24.0</td>\n",
       "      <td>0.0</td>\n",
       "      <td>2380</td>\n",
       "      <td>2380</td>\n",
       "      <td>Computer Science and Engineering</td>\n",
       "      <td>0</td>\n",
       "    </tr>\n",
       "    <tr>\n",
       "      <th>31</th>\n",
       "      <td>AMARNATH D</td>\n",
       "      <td>-1.0</td>\n",
       "      <td>12.0</td>\n",
       "      <td>1890</td>\n",
       "      <td>1890</td>\n",
       "      <td>Electronics and Communication Engineering</td>\n",
       "      <td>0</td>\n",
       "    </tr>\n",
       "    <tr>\n",
       "      <th>32</th>\n",
       "      <td>bala</td>\n",
       "      <td>32.0</td>\n",
       "      <td>0.0</td>\n",
       "      <td>1720</td>\n",
       "      <td>1720</td>\n",
       "      <td>Electronics and Communication Engineering</td>\n",
       "      <td>0</td>\n",
       "    </tr>\n",
       "    <tr>\n",
       "      <th>33</th>\n",
       "      <td>XY Z</td>\n",
       "      <td>-1.0</td>\n",
       "      <td>-1.0</td>\n",
       "      <td>0</td>\n",
       "      <td>0</td>\n",
       "      <td>Computer Science and Engineering</td>\n",
       "      <td>0</td>\n",
       "    </tr>\n",
       "    <tr>\n",
       "      <th>34</th>\n",
       "      <td>Hariharan</td>\n",
       "      <td>-1.0</td>\n",
       "      <td>-1.0</td>\n",
       "      <td>0</td>\n",
       "      <td>0</td>\n",
       "      <td>Computer Science and Engineering</td>\n",
       "      <td>0</td>\n",
       "    </tr>\n",
       "  </tbody>\n",
       "</table>\n",
       "<p>119 rows × 7 columns</p>\n",
       "</div>"
      ],
      "text/plain": [
       "             Name  python  mysql  Previous Geekions  CodeKata Score  \\\n",
       "0       A.Dharani    82.0   20.0              24500           24500   \n",
       "1     V.JEEVITHA     82.0   20.0              21740           21740   \n",
       "2     HEMAVATHI.R   100.0  100.0              19680           19680   \n",
       "3     Mugunthan S   100.0   47.0              10610           10610   \n",
       "4     Sathammai.S   100.0    8.0               8980            8980   \n",
       "..            ...     ...    ...                ...             ...   \n",
       "30  praveen raj j    24.0    0.0               2380            2380   \n",
       "31     AMARNATH D    -1.0   12.0               1890            1890   \n",
       "32           bala    32.0    0.0               1720            1720   \n",
       "33           XY Z    -1.0   -1.0                  0               0   \n",
       "34      Hariharan    -1.0   -1.0                  0               0   \n",
       "\n",
       "                                   Department  Rising  \n",
       "0            Computer Science and Engineering       0  \n",
       "1            Computer Science and Engineering       0  \n",
       "2            Computer Science and Engineering       0  \n",
       "3            Computer Science and Engineering       0  \n",
       "4            Computer Science and Engineering       0  \n",
       "..                                        ...     ...  \n",
       "30           Computer Science and Engineering       0  \n",
       "31  Electronics and Communication Engineering       0  \n",
       "32  Electronics and Communication Engineering       0  \n",
       "33           Computer Science and Engineering       0  \n",
       "34           Computer Science and Engineering       0  \n",
       "\n",
       "[119 rows x 7 columns]"
      ]
     },
     "execution_count": 4,
     "metadata": {},
     "output_type": "execute_result"
    }
   ],
   "source": [
    "df = pd.concat([A,B])\n",
    "df"
   ]
  },
  {
   "cell_type": "markdown",
   "metadata": {},
   "source": [
    "### "
   ]
  },
  {
   "cell_type": "code",
   "execution_count": 5,
   "metadata": {},
   "outputs": [
    {
     "data": {
      "text/html": [
       "<div>\n",
       "<style scoped>\n",
       "    .dataframe tbody tr th:only-of-type {\n",
       "        vertical-align: middle;\n",
       "    }\n",
       "\n",
       "    .dataframe tbody tr th {\n",
       "        vertical-align: top;\n",
       "    }\n",
       "\n",
       "    .dataframe thead th {\n",
       "        text-align: right;\n",
       "    }\n",
       "</style>\n",
       "<table border=\"1\" class=\"dataframe\">\n",
       "  <thead>\n",
       "    <tr style=\"text-align: right;\">\n",
       "      <th></th>\n",
       "      <th>python</th>\n",
       "      <th>mysql</th>\n",
       "      <th>Previous Geekions</th>\n",
       "      <th>CodeKata Score</th>\n",
       "      <th>Rising</th>\n",
       "    </tr>\n",
       "  </thead>\n",
       "  <tbody>\n",
       "    <tr>\n",
       "      <th>count</th>\n",
       "      <td>119.000000</td>\n",
       "      <td>119.000000</td>\n",
       "      <td>119.000000</td>\n",
       "      <td>119.000000</td>\n",
       "      <td>119.000000</td>\n",
       "    </tr>\n",
       "    <tr>\n",
       "      <th>mean</th>\n",
       "      <td>54.352941</td>\n",
       "      <td>23.500000</td>\n",
       "      <td>3842.352941</td>\n",
       "      <td>4051.764706</td>\n",
       "      <td>209.411765</td>\n",
       "    </tr>\n",
       "    <tr>\n",
       "      <th>std</th>\n",
       "      <td>44.272526</td>\n",
       "      <td>33.276671</td>\n",
       "      <td>4406.339992</td>\n",
       "      <td>4551.951881</td>\n",
       "      <td>553.445746</td>\n",
       "    </tr>\n",
       "    <tr>\n",
       "      <th>min</th>\n",
       "      <td>-1.000000</td>\n",
       "      <td>-1.000000</td>\n",
       "      <td>0.000000</td>\n",
       "      <td>0.000000</td>\n",
       "      <td>0.000000</td>\n",
       "    </tr>\n",
       "    <tr>\n",
       "      <th>25%</th>\n",
       "      <td>0.000000</td>\n",
       "      <td>0.000000</td>\n",
       "      <td>740.000000</td>\n",
       "      <td>740.000000</td>\n",
       "      <td>0.000000</td>\n",
       "    </tr>\n",
       "    <tr>\n",
       "      <th>50%</th>\n",
       "      <td>82.000000</td>\n",
       "      <td>4.000000</td>\n",
       "      <td>2410.000000</td>\n",
       "      <td>2410.000000</td>\n",
       "      <td>0.000000</td>\n",
       "    </tr>\n",
       "    <tr>\n",
       "      <th>75%</th>\n",
       "      <td>100.000000</td>\n",
       "      <td>33.000000</td>\n",
       "      <td>5340.000000</td>\n",
       "      <td>5975.000000</td>\n",
       "      <td>0.000000</td>\n",
       "    </tr>\n",
       "    <tr>\n",
       "      <th>max</th>\n",
       "      <td>100.000000</td>\n",
       "      <td>100.000000</td>\n",
       "      <td>24500.000000</td>\n",
       "      <td>24500.000000</td>\n",
       "      <td>3140.000000</td>\n",
       "    </tr>\n",
       "  </tbody>\n",
       "</table>\n",
       "</div>"
      ],
      "text/plain": [
       "           python       mysql  Previous Geekions  CodeKata Score       Rising\n",
       "count  119.000000  119.000000         119.000000      119.000000   119.000000\n",
       "mean    54.352941   23.500000        3842.352941     4051.764706   209.411765\n",
       "std     44.272526   33.276671        4406.339992     4551.951881   553.445746\n",
       "min     -1.000000   -1.000000           0.000000        0.000000     0.000000\n",
       "25%      0.000000    0.000000         740.000000      740.000000     0.000000\n",
       "50%     82.000000    4.000000        2410.000000     2410.000000     0.000000\n",
       "75%    100.000000   33.000000        5340.000000     5975.000000     0.000000\n",
       "max    100.000000  100.000000       24500.000000    24500.000000  3140.000000"
      ]
     },
     "execution_count": 5,
     "metadata": {},
     "output_type": "execute_result"
    }
   ],
   "source": [
    "df.describe()"
   ]
  },
  {
   "cell_type": "markdown",
   "metadata": {
    "id": "BLnZWlMnv03H"
   },
   "source": [
    "###### Take each csv file , split that csv file into multiple categories (example csv files are added in the repo) \n"
   ]
  },
  {
   "cell_type": "markdown",
   "metadata": {
    "id": "xG6ODupuv03I"
   },
   "source": [
    "###### consider if the codekata score exceeds 15000 points(present week) then make a csv on those observations as Exceeded expectations.csv\n"
   ]
  },
  {
   "cell_type": "markdown",
   "metadata": {
    "id": "rObcaKbIv03I"
   },
   "source": [
    "###### if  10000<codekata score<15000   (Reached_expectations.csv)\n",
    "\n"
   ]
  },
  {
   "cell_type": "markdown",
   "metadata": {
    "id": "tkrp5njLv03J"
   },
   "source": [
    "###### if  7000<codekata score<10000   (Needs_Improvement.csv)\n"
   ]
  },
  {
   "cell_type": "markdown",
   "metadata": {
    "id": "rgxTwFvdv03J"
   },
   "source": [
    "###### if  codekate score < 7000        (Unsatisfactory.csv)"
   ]
  },
  {
   "cell_type": "markdown",
   "metadata": {},
   "source": [
    "### "
   ]
  },
  {
   "cell_type": "code",
   "execution_count": 6,
   "metadata": {
    "id": "RMfwSDvlv03J"
   },
   "outputs": [],
   "source": [
    "Exceeded_expectations = df[df[\"CodeKata Score\"]>15000]\n",
    "Exceeded_expectations.to_csv(\"Exceeded_expectations.csv\")\n",
    "\n",
    "\n",
    "Reached_expectations = df[(df[\"CodeKata Score\"]<15000) & (df[\"CodeKata Score\"]>10000)]\n",
    "Reached_expectations.to_csv(\"Reached_expectations.csv\")\n",
    "\n",
    "\n",
    "Needs_Improvement = df[(df[\"CodeKata Score\"]<10000) & (df[\"CodeKata Score\"]>7000)]\n",
    "Needs_Improvement.to_csv(\"Needs_Improvement.csv\")\n",
    "\n",
    "\n",
    "Unsatisfactory = df[df[\"CodeKata Score\"] < 7000]\n",
    "Unsatisfactory.to_csv(\"Unsatisfactory.csv\")"
   ]
  },
  {
   "cell_type": "markdown",
   "metadata": {
    "id": "kf5Nqwo-v03K"
   },
   "source": [
    "# "
   ]
  },
  {
   "cell_type": "markdown",
   "metadata": {
    "id": "5M8n-t2iv03K"
   },
   "source": [
    "###### Average of previous week geekions vs this week geekions (i.e Previous Geekions vs CodeKata Score)"
   ]
  },
  {
   "cell_type": "code",
   "execution_count": 7,
   "metadata": {
    "id": "kqFB5LSFv03K"
   },
   "outputs": [
    {
     "name": "stdout",
     "output_type": "stream",
     "text": [
      "Average of previous week geekions is 3842.3529411764707 and this week geekions is 4051.764705882353\n"
     ]
    }
   ],
   "source": [
    "pg = df[\"Previous Geekions\"].mean()\n",
    "cs = df[\"CodeKata Score\"].mean()\n",
    "print(f\"Average of previous week geekions is {pg} and this week geekions is {cs}\")"
   ]
  },
  {
   "cell_type": "markdown",
   "metadata": {},
   "source": [
    "### "
   ]
  },
  {
   "cell_type": "markdown",
   "metadata": {
    "id": "6SryPLclv03K"
   },
   "source": [
    "###### No of students participated "
   ]
  },
  {
   "cell_type": "code",
   "execution_count": 8,
   "metadata": {
    "id": "c1ZairZyv03K"
   },
   "outputs": [
    {
     "name": "stdout",
     "output_type": "stream",
     "text": [
      "No of students participated are 119\n"
     ]
    }
   ],
   "source": [
    "st=df[\"Name\"].count()\n",
    "print(f\"No of students participated are {st}\")"
   ]
  },
  {
   "cell_type": "markdown",
   "metadata": {
    "id": "3KVLgLNxv03L"
   },
   "source": [
    "### "
   ]
  },
  {
   "cell_type": "markdown",
   "metadata": {
    "id": "UvqZVvO8v03L"
   },
   "source": [
    "###### rising star of the week (top 3 candidate who performed well in that particular week)"
   ]
  },
  {
   "cell_type": "code",
   "execution_count": 9,
   "metadata": {
    "id": "GuvLjhnXv03L"
   },
   "outputs": [
    {
     "data": {
      "text/html": [
       "<div>\n",
       "<style scoped>\n",
       "    .dataframe tbody tr th:only-of-type {\n",
       "        vertical-align: middle;\n",
       "    }\n",
       "\n",
       "    .dataframe tbody tr th {\n",
       "        vertical-align: top;\n",
       "    }\n",
       "\n",
       "    .dataframe thead th {\n",
       "        text-align: right;\n",
       "    }\n",
       "</style>\n",
       "<table border=\"1\" class=\"dataframe\">\n",
       "  <thead>\n",
       "    <tr style=\"text-align: right;\">\n",
       "      <th></th>\n",
       "      <th>Name</th>\n",
       "      <th>python</th>\n",
       "      <th>mysql</th>\n",
       "      <th>Previous Geekions</th>\n",
       "      <th>CodeKata Score</th>\n",
       "      <th>Department</th>\n",
       "      <th>Rising</th>\n",
       "    </tr>\n",
       "  </thead>\n",
       "  <tbody>\n",
       "    <tr>\n",
       "      <th>2</th>\n",
       "      <td>HEMAVATHI.R</td>\n",
       "      <td>100.0</td>\n",
       "      <td>100.0</td>\n",
       "      <td>19680</td>\n",
       "      <td>19680</td>\n",
       "      <td>Computer Science and Engineering</td>\n",
       "      <td>0</td>\n",
       "    </tr>\n",
       "    <tr>\n",
       "      <th>1</th>\n",
       "      <td>V.JEEVITHA</td>\n",
       "      <td>82.0</td>\n",
       "      <td>20.0</td>\n",
       "      <td>21740</td>\n",
       "      <td>21740</td>\n",
       "      <td>Computer Science and Engineering</td>\n",
       "      <td>0</td>\n",
       "    </tr>\n",
       "    <tr>\n",
       "      <th>0</th>\n",
       "      <td>A.Dharani</td>\n",
       "      <td>82.0</td>\n",
       "      <td>20.0</td>\n",
       "      <td>24500</td>\n",
       "      <td>24500</td>\n",
       "      <td>Computer Science and Engineering</td>\n",
       "      <td>0</td>\n",
       "    </tr>\n",
       "  </tbody>\n",
       "</table>\n",
       "</div>"
      ],
      "text/plain": [
       "          Name  python  mysql  Previous Geekions  CodeKata Score  \\\n",
       "2  HEMAVATHI.R   100.0  100.0              19680           19680   \n",
       "1  V.JEEVITHA     82.0   20.0              21740           21740   \n",
       "0    A.Dharani    82.0   20.0              24500           24500   \n",
       "\n",
       "                         Department  Rising  \n",
       "2  Computer Science and Engineering       0  \n",
       "1  Computer Science and Engineering       0  \n",
       "0  Computer Science and Engineering       0  "
      ]
     },
     "execution_count": 9,
     "metadata": {},
     "output_type": "execute_result"
    }
   ],
   "source": [
    "CodeKata_top=df.sort_values(by=['CodeKata Score'])\n",
    "CodeKata_top.tail(3)"
   ]
  },
  {
   "cell_type": "markdown",
   "metadata": {},
   "source": [
    "### "
   ]
  },
  {
   "cell_type": "markdown",
   "metadata": {
    "id": "SfDLA2SEv03L"
   },
   "source": [
    "###### Shining stars of the week (top 3 candidates who has highest geekions)"
   ]
  },
  {
   "cell_type": "code",
   "execution_count": 10,
   "metadata": {
    "id": "r2eb5G2Ov03L"
   },
   "outputs": [
    {
     "data": {
      "text/html": [
       "<div>\n",
       "<style scoped>\n",
       "    .dataframe tbody tr th:only-of-type {\n",
       "        vertical-align: middle;\n",
       "    }\n",
       "\n",
       "    .dataframe tbody tr th {\n",
       "        vertical-align: top;\n",
       "    }\n",
       "\n",
       "    .dataframe thead th {\n",
       "        text-align: right;\n",
       "    }\n",
       "</style>\n",
       "<table border=\"1\" class=\"dataframe\">\n",
       "  <thead>\n",
       "    <tr style=\"text-align: right;\">\n",
       "      <th></th>\n",
       "      <th>Name</th>\n",
       "      <th>python</th>\n",
       "      <th>mysql</th>\n",
       "      <th>Previous Geekions</th>\n",
       "      <th>CodeKata Score</th>\n",
       "      <th>Department</th>\n",
       "      <th>Rising</th>\n",
       "    </tr>\n",
       "  </thead>\n",
       "  <tbody>\n",
       "    <tr>\n",
       "      <th>2</th>\n",
       "      <td>HEMAVATHI.R</td>\n",
       "      <td>100.0</td>\n",
       "      <td>100.0</td>\n",
       "      <td>19680</td>\n",
       "      <td>19680</td>\n",
       "      <td>Computer Science and Engineering</td>\n",
       "      <td>0</td>\n",
       "    </tr>\n",
       "    <tr>\n",
       "      <th>1</th>\n",
       "      <td>V.JEEVITHA</td>\n",
       "      <td>82.0</td>\n",
       "      <td>20.0</td>\n",
       "      <td>21740</td>\n",
       "      <td>21740</td>\n",
       "      <td>Computer Science and Engineering</td>\n",
       "      <td>0</td>\n",
       "    </tr>\n",
       "    <tr>\n",
       "      <th>0</th>\n",
       "      <td>A.Dharani</td>\n",
       "      <td>82.0</td>\n",
       "      <td>20.0</td>\n",
       "      <td>24500</td>\n",
       "      <td>24500</td>\n",
       "      <td>Computer Science and Engineering</td>\n",
       "      <td>0</td>\n",
       "    </tr>\n",
       "  </tbody>\n",
       "</table>\n",
       "</div>"
      ],
      "text/plain": [
       "          Name  python  mysql  Previous Geekions  CodeKata Score  \\\n",
       "2  HEMAVATHI.R   100.0  100.0              19680           19680   \n",
       "1  V.JEEVITHA     82.0   20.0              21740           21740   \n",
       "0    A.Dharani    82.0   20.0              24500           24500   \n",
       "\n",
       "                         Department  Rising  \n",
       "2  Computer Science and Engineering       0  \n",
       "1  Computer Science and Engineering       0  \n",
       "0  Computer Science and Engineering       0  "
      ]
     },
     "execution_count": 10,
     "metadata": {},
     "output_type": "execute_result"
    }
   ],
   "source": [
    "Geekions_top=df.sort_values(by=['Previous Geekions'])\n",
    "Geekions_top.tail(3)"
   ]
  },
  {
   "cell_type": "markdown",
   "metadata": {},
   "source": [
    "### "
   ]
  },
  {
   "cell_type": "markdown",
   "metadata": {
    "id": "n5FRmnnav03M"
   },
   "source": [
    "###### Department wise codekata performence (pie chart)"
   ]
  },
  {
   "cell_type": "code",
   "execution_count": 11,
   "metadata": {
    "id": "e0jUKRLHv03M"
   },
   "outputs": [
    {
     "data": {
      "text/plain": [
       "array(['Computer Science and Engineering',\n",
       "       'Electronics and Communication Engineering',\n",
       "       'Electronics and Electrical Engineering'], dtype=object)"
      ]
     },
     "execution_count": 11,
     "metadata": {},
     "output_type": "execute_result"
    }
   ],
   "source": [
    "df['Department'].unique()"
   ]
  },
  {
   "cell_type": "code",
   "execution_count": 12,
   "metadata": {},
   "outputs": [
    {
     "data": {
      "text/html": [
       "<div>\n",
       "<style scoped>\n",
       "    .dataframe tbody tr th:only-of-type {\n",
       "        vertical-align: middle;\n",
       "    }\n",
       "\n",
       "    .dataframe tbody tr th {\n",
       "        vertical-align: top;\n",
       "    }\n",
       "\n",
       "    .dataframe thead th {\n",
       "        text-align: right;\n",
       "    }\n",
       "</style>\n",
       "<table border=\"1\" class=\"dataframe\">\n",
       "  <thead>\n",
       "    <tr style=\"text-align: right;\">\n",
       "      <th></th>\n",
       "      <th>Name</th>\n",
       "      <th>python</th>\n",
       "      <th>mysql</th>\n",
       "      <th>Previous Geekions</th>\n",
       "      <th>CodeKata Score</th>\n",
       "      <th>Department</th>\n",
       "      <th>Rising</th>\n",
       "    </tr>\n",
       "  </thead>\n",
       "  <tbody>\n",
       "    <tr>\n",
       "      <th>0</th>\n",
       "      <td>A.Dharani</td>\n",
       "      <td>82.0</td>\n",
       "      <td>20.0</td>\n",
       "      <td>24500</td>\n",
       "      <td>24500</td>\n",
       "      <td>Computer Science and Engineering</td>\n",
       "      <td>0</td>\n",
       "    </tr>\n",
       "    <tr>\n",
       "      <th>1</th>\n",
       "      <td>V.JEEVITHA</td>\n",
       "      <td>82.0</td>\n",
       "      <td>20.0</td>\n",
       "      <td>21740</td>\n",
       "      <td>21740</td>\n",
       "      <td>Computer Science and Engineering</td>\n",
       "      <td>0</td>\n",
       "    </tr>\n",
       "    <tr>\n",
       "      <th>2</th>\n",
       "      <td>HEMAVATHI.R</td>\n",
       "      <td>100.0</td>\n",
       "      <td>100.0</td>\n",
       "      <td>19680</td>\n",
       "      <td>19680</td>\n",
       "      <td>Computer Science and Engineering</td>\n",
       "      <td>0</td>\n",
       "    </tr>\n",
       "    <tr>\n",
       "      <th>3</th>\n",
       "      <td>Mugunthan S</td>\n",
       "      <td>100.0</td>\n",
       "      <td>47.0</td>\n",
       "      <td>10610</td>\n",
       "      <td>10610</td>\n",
       "      <td>Computer Science and Engineering</td>\n",
       "      <td>0</td>\n",
       "    </tr>\n",
       "    <tr>\n",
       "      <th>4</th>\n",
       "      <td>Sathammai.S</td>\n",
       "      <td>100.0</td>\n",
       "      <td>8.0</td>\n",
       "      <td>8980</td>\n",
       "      <td>8980</td>\n",
       "      <td>Computer Science and Engineering</td>\n",
       "      <td>0</td>\n",
       "    </tr>\n",
       "    <tr>\n",
       "      <th>...</th>\n",
       "      <td>...</td>\n",
       "      <td>...</td>\n",
       "      <td>...</td>\n",
       "      <td>...</td>\n",
       "      <td>...</td>\n",
       "      <td>...</td>\n",
       "      <td>...</td>\n",
       "    </tr>\n",
       "    <tr>\n",
       "      <th>27</th>\n",
       "      <td>Vimalesh Fernando</td>\n",
       "      <td>-1.0</td>\n",
       "      <td>0.0</td>\n",
       "      <td>4170</td>\n",
       "      <td>4170</td>\n",
       "      <td>Computer Science and Engineering</td>\n",
       "      <td>0</td>\n",
       "    </tr>\n",
       "    <tr>\n",
       "      <th>28</th>\n",
       "      <td>M.Karthikeyan</td>\n",
       "      <td>-1.0</td>\n",
       "      <td>4.0</td>\n",
       "      <td>4020</td>\n",
       "      <td>4020</td>\n",
       "      <td>Computer Science and Engineering</td>\n",
       "      <td>0</td>\n",
       "    </tr>\n",
       "    <tr>\n",
       "      <th>30</th>\n",
       "      <td>praveen raj j</td>\n",
       "      <td>24.0</td>\n",
       "      <td>0.0</td>\n",
       "      <td>2380</td>\n",
       "      <td>2380</td>\n",
       "      <td>Computer Science and Engineering</td>\n",
       "      <td>0</td>\n",
       "    </tr>\n",
       "    <tr>\n",
       "      <th>33</th>\n",
       "      <td>XY Z</td>\n",
       "      <td>-1.0</td>\n",
       "      <td>-1.0</td>\n",
       "      <td>0</td>\n",
       "      <td>0</td>\n",
       "      <td>Computer Science and Engineering</td>\n",
       "      <td>0</td>\n",
       "    </tr>\n",
       "    <tr>\n",
       "      <th>34</th>\n",
       "      <td>Hariharan</td>\n",
       "      <td>-1.0</td>\n",
       "      <td>-1.0</td>\n",
       "      <td>0</td>\n",
       "      <td>0</td>\n",
       "      <td>Computer Science and Engineering</td>\n",
       "      <td>0</td>\n",
       "    </tr>\n",
       "  </tbody>\n",
       "</table>\n",
       "<p>63 rows × 7 columns</p>\n",
       "</div>"
      ],
      "text/plain": [
       "                 Name  python  mysql  Previous Geekions  CodeKata Score  \\\n",
       "0           A.Dharani    82.0   20.0              24500           24500   \n",
       "1         V.JEEVITHA     82.0   20.0              21740           21740   \n",
       "2         HEMAVATHI.R   100.0  100.0              19680           19680   \n",
       "3         Mugunthan S   100.0   47.0              10610           10610   \n",
       "4         Sathammai.S   100.0    8.0               8980            8980   \n",
       "..                ...     ...    ...                ...             ...   \n",
       "27  Vimalesh Fernando    -1.0    0.0               4170            4170   \n",
       "28      M.Karthikeyan    -1.0    4.0               4020            4020   \n",
       "30      praveen raj j    24.0    0.0               2380            2380   \n",
       "33               XY Z    -1.0   -1.0                  0               0   \n",
       "34          Hariharan    -1.0   -1.0                  0               0   \n",
       "\n",
       "                          Department  Rising  \n",
       "0   Computer Science and Engineering       0  \n",
       "1   Computer Science and Engineering       0  \n",
       "2   Computer Science and Engineering       0  \n",
       "3   Computer Science and Engineering       0  \n",
       "4   Computer Science and Engineering       0  \n",
       "..                               ...     ...  \n",
       "27  Computer Science and Engineering       0  \n",
       "28  Computer Science and Engineering       0  \n",
       "30  Computer Science and Engineering       0  \n",
       "33  Computer Science and Engineering       0  \n",
       "34  Computer Science and Engineering       0  \n",
       "\n",
       "[63 rows x 7 columns]"
      ]
     },
     "execution_count": 12,
     "metadata": {},
     "output_type": "execute_result"
    }
   ],
   "source": [
    "cs=df[df[\"Department\"]==\"Computer Science and Engineering\"]\n",
    "cs['CodeKata Score'].mean()\n",
    "cs"
   ]
  },
  {
   "cell_type": "code",
   "execution_count": 13,
   "metadata": {},
   "outputs": [
    {
     "data": {
      "text/plain": [
       "2777.8205128205127"
      ]
     },
     "execution_count": 13,
     "metadata": {},
     "output_type": "execute_result"
    }
   ],
   "source": [
    "ec=df[df[\"Department\"]==\"Electronics and Communication Engineering\"]\n",
    "ec['CodeKata Score'].mean()"
   ]
  },
  {
   "cell_type": "code",
   "execution_count": 14,
   "metadata": {},
   "outputs": [
    {
     "data": {
      "text/plain": [
       "3164.705882352941"
      ]
     },
     "execution_count": 14,
     "metadata": {},
     "output_type": "execute_result"
    }
   ],
   "source": [
    "eee=df[df[\"Department\"]==\"Electronics and Electrical Engineering\"]\n",
    "eee['CodeKata Score'].mean()"
   ]
  },
  {
   "cell_type": "code",
   "execution_count": 15,
   "metadata": {},
   "outputs": [
    {
     "data": {
      "image/png": "[encoded data removed]",
      "text/plain": [
       "<Figure size 1440x720 with 1 Axes>"
      ]
     },
     "metadata": {},
     "output_type": "display_data"
    }
   ],
   "source": [
    "data = pd.DataFrame({'Department': [5079.761904761905,2777.8205128205127 , 3164.705882352941]},\n",
    "                  index=['Computer Science and Engineering', 'Electronics and Communication Engineering', 'Electronics and Electrical Engineering'])\n",
    "plot = data.plot.pie(y='Department', figsize=(20, 10))"
   ]
  },
  {
   "cell_type": "code",
   "execution_count": null,
   "metadata": {},
   "outputs": [],
   "source": []
  },
  {
   "cell_type": "markdown",
   "metadata": {},
   "source": [
    "# "
   ]
  },
  {
   "cell_type": "markdown",
   "metadata": {
    "id": "U8GAtMVPv03M"
   },
   "source": [
    "###### Department wise toppers (horizantal bar graph or any visual representations of your choice)"
   ]
  },
  {
   "cell_type": "code",
   "execution_count": 16,
   "metadata": {
    "id": "a-ktnlazv03M"
   },
   "outputs": [
    {
     "data": {
      "text/html": [
       "<div>\n",
       "<style scoped>\n",
       "    .dataframe tbody tr th:only-of-type {\n",
       "        vertical-align: middle;\n",
       "    }\n",
       "\n",
       "    .dataframe tbody tr th {\n",
       "        vertical-align: top;\n",
       "    }\n",
       "\n",
       "    .dataframe thead th {\n",
       "        text-align: right;\n",
       "    }\n",
       "</style>\n",
       "<table border=\"1\" class=\"dataframe\">\n",
       "  <thead>\n",
       "    <tr style=\"text-align: right;\">\n",
       "      <th></th>\n",
       "      <th>Name</th>\n",
       "      <th>python</th>\n",
       "      <th>mysql</th>\n",
       "      <th>Previous Geekions</th>\n",
       "      <th>CodeKata Score</th>\n",
       "      <th>Department</th>\n",
       "      <th>Rising</th>\n",
       "    </tr>\n",
       "  </thead>\n",
       "  <tbody>\n",
       "    <tr>\n",
       "      <th>0</th>\n",
       "      <td>A.Dharani</td>\n",
       "      <td>82.0</td>\n",
       "      <td>20.0</td>\n",
       "      <td>24500</td>\n",
       "      <td>24500</td>\n",
       "      <td>Computer Science and Engineering</td>\n",
       "      <td>0</td>\n",
       "    </tr>\n",
       "    <tr>\n",
       "      <th>1</th>\n",
       "      <td>V.JEEVITHA</td>\n",
       "      <td>82.0</td>\n",
       "      <td>20.0</td>\n",
       "      <td>21740</td>\n",
       "      <td>21740</td>\n",
       "      <td>Computer Science and Engineering</td>\n",
       "      <td>0</td>\n",
       "    </tr>\n",
       "    <tr>\n",
       "      <th>2</th>\n",
       "      <td>HEMAVATHI.R</td>\n",
       "      <td>100.0</td>\n",
       "      <td>100.0</td>\n",
       "      <td>19680</td>\n",
       "      <td>19680</td>\n",
       "      <td>Computer Science and Engineering</td>\n",
       "      <td>0</td>\n",
       "    </tr>\n",
       "    <tr>\n",
       "      <th>3</th>\n",
       "      <td>Mugunthan S</td>\n",
       "      <td>100.0</td>\n",
       "      <td>47.0</td>\n",
       "      <td>10610</td>\n",
       "      <td>10610</td>\n",
       "      <td>Computer Science and Engineering</td>\n",
       "      <td>0</td>\n",
       "    </tr>\n",
       "    <tr>\n",
       "      <th>4</th>\n",
       "      <td>Sathammai.S</td>\n",
       "      <td>100.0</td>\n",
       "      <td>8.0</td>\n",
       "      <td>8980</td>\n",
       "      <td>8980</td>\n",
       "      <td>Computer Science and Engineering</td>\n",
       "      <td>0</td>\n",
       "    </tr>\n",
       "    <tr>\n",
       "      <th>...</th>\n",
       "      <td>...</td>\n",
       "      <td>...</td>\n",
       "      <td>...</td>\n",
       "      <td>...</td>\n",
       "      <td>...</td>\n",
       "      <td>...</td>\n",
       "      <td>...</td>\n",
       "    </tr>\n",
       "    <tr>\n",
       "      <th>27</th>\n",
       "      <td>Vimalesh Fernando</td>\n",
       "      <td>-1.0</td>\n",
       "      <td>0.0</td>\n",
       "      <td>4170</td>\n",
       "      <td>4170</td>\n",
       "      <td>Computer Science and Engineering</td>\n",
       "      <td>0</td>\n",
       "    </tr>\n",
       "    <tr>\n",
       "      <th>28</th>\n",
       "      <td>M.Karthikeyan</td>\n",
       "      <td>-1.0</td>\n",
       "      <td>4.0</td>\n",
       "      <td>4020</td>\n",
       "      <td>4020</td>\n",
       "      <td>Computer Science and Engineering</td>\n",
       "      <td>0</td>\n",
       "    </tr>\n",
       "    <tr>\n",
       "      <th>30</th>\n",
       "      <td>praveen raj j</td>\n",
       "      <td>24.0</td>\n",
       "      <td>0.0</td>\n",
       "      <td>2380</td>\n",
       "      <td>2380</td>\n",
       "      <td>Computer Science and Engineering</td>\n",
       "      <td>0</td>\n",
       "    </tr>\n",
       "    <tr>\n",
       "      <th>33</th>\n",
       "      <td>XY Z</td>\n",
       "      <td>-1.0</td>\n",
       "      <td>-1.0</td>\n",
       "      <td>0</td>\n",
       "      <td>0</td>\n",
       "      <td>Computer Science and Engineering</td>\n",
       "      <td>0</td>\n",
       "    </tr>\n",
       "    <tr>\n",
       "      <th>34</th>\n",
       "      <td>Hariharan</td>\n",
       "      <td>-1.0</td>\n",
       "      <td>-1.0</td>\n",
       "      <td>0</td>\n",
       "      <td>0</td>\n",
       "      <td>Computer Science and Engineering</td>\n",
       "      <td>0</td>\n",
       "    </tr>\n",
       "  </tbody>\n",
       "</table>\n",
       "<p>63 rows × 7 columns</p>\n",
       "</div>"
      ],
      "text/plain": [
       "                 Name  python  mysql  Previous Geekions  CodeKata Score  \\\n",
       "0           A.Dharani    82.0   20.0              24500           24500   \n",
       "1         V.JEEVITHA     82.0   20.0              21740           21740   \n",
       "2         HEMAVATHI.R   100.0  100.0              19680           19680   \n",
       "3         Mugunthan S   100.0   47.0              10610           10610   \n",
       "4         Sathammai.S   100.0    8.0               8980            8980   \n",
       "..                ...     ...    ...                ...             ...   \n",
       "27  Vimalesh Fernando    -1.0    0.0               4170            4170   \n",
       "28      M.Karthikeyan    -1.0    4.0               4020            4020   \n",
       "30      praveen raj j    24.0    0.0               2380            2380   \n",
       "33               XY Z    -1.0   -1.0                  0               0   \n",
       "34          Hariharan    -1.0   -1.0                  0               0   \n",
       "\n",
       "                          Department  Rising  \n",
       "0   Computer Science and Engineering       0  \n",
       "1   Computer Science and Engineering       0  \n",
       "2   Computer Science and Engineering       0  \n",
       "3   Computer Science and Engineering       0  \n",
       "4   Computer Science and Engineering       0  \n",
       "..                               ...     ...  \n",
       "27  Computer Science and Engineering       0  \n",
       "28  Computer Science and Engineering       0  \n",
       "30  Computer Science and Engineering       0  \n",
       "33  Computer Science and Engineering       0  \n",
       "34  Computer Science and Engineering       0  \n",
       "\n",
       "[63 rows x 7 columns]"
      ]
     },
     "execution_count": 16,
     "metadata": {},
     "output_type": "execute_result"
    }
   ],
   "source": [
    "cs"
   ]
  },
  {
   "cell_type": "code",
   "execution_count": 17,
   "metadata": {},
   "outputs": [
    {
     "data": {
      "text/html": [
       "<div>\n",
       "<style scoped>\n",
       "    .dataframe tbody tr th:only-of-type {\n",
       "        vertical-align: middle;\n",
       "    }\n",
       "\n",
       "    .dataframe tbody tr th {\n",
       "        vertical-align: top;\n",
       "    }\n",
       "\n",
       "    .dataframe thead th {\n",
       "        text-align: right;\n",
       "    }\n",
       "</style>\n",
       "<table border=\"1\" class=\"dataframe\">\n",
       "  <thead>\n",
       "    <tr style=\"text-align: right;\">\n",
       "      <th></th>\n",
       "      <th>Name</th>\n",
       "      <th>python</th>\n",
       "      <th>mysql</th>\n",
       "      <th>Previous Geekions</th>\n",
       "      <th>CodeKata Score</th>\n",
       "      <th>Department</th>\n",
       "      <th>Rising</th>\n",
       "    </tr>\n",
       "  </thead>\n",
       "  <tbody>\n",
       "    <tr>\n",
       "      <th>2</th>\n",
       "      <td>Ganesh Ramkumar R</td>\n",
       "      <td>-1.0</td>\n",
       "      <td>24.0</td>\n",
       "      <td>8790</td>\n",
       "      <td>10790</td>\n",
       "      <td>Computer Science and Engineering</td>\n",
       "      <td>2000</td>\n",
       "    </tr>\n",
       "    <tr>\n",
       "      <th>1</th>\n",
       "      <td>Chandru</td>\n",
       "      <td>0.0</td>\n",
       "      <td>0.0</td>\n",
       "      <td>14150</td>\n",
       "      <td>14490</td>\n",
       "      <td>Computer Science and Engineering</td>\n",
       "      <td>340</td>\n",
       "    </tr>\n",
       "    <tr>\n",
       "      <th>2</th>\n",
       "      <td>HEMAVATHI.R</td>\n",
       "      <td>100.0</td>\n",
       "      <td>100.0</td>\n",
       "      <td>19680</td>\n",
       "      <td>19680</td>\n",
       "      <td>Computer Science and Engineering</td>\n",
       "      <td>0</td>\n",
       "    </tr>\n",
       "    <tr>\n",
       "      <th>1</th>\n",
       "      <td>V.JEEVITHA</td>\n",
       "      <td>82.0</td>\n",
       "      <td>20.0</td>\n",
       "      <td>21740</td>\n",
       "      <td>21740</td>\n",
       "      <td>Computer Science and Engineering</td>\n",
       "      <td>0</td>\n",
       "    </tr>\n",
       "    <tr>\n",
       "      <th>0</th>\n",
       "      <td>A.Dharani</td>\n",
       "      <td>82.0</td>\n",
       "      <td>20.0</td>\n",
       "      <td>24500</td>\n",
       "      <td>24500</td>\n",
       "      <td>Computer Science and Engineering</td>\n",
       "      <td>0</td>\n",
       "    </tr>\n",
       "  </tbody>\n",
       "</table>\n",
       "</div>"
      ],
      "text/plain": [
       "                Name  python  mysql  Previous Geekions  CodeKata Score  \\\n",
       "2  Ganesh Ramkumar R    -1.0   24.0               8790           10790   \n",
       "1            Chandru     0.0    0.0              14150           14490   \n",
       "2        HEMAVATHI.R   100.0  100.0              19680           19680   \n",
       "1        V.JEEVITHA     82.0   20.0              21740           21740   \n",
       "0          A.Dharani    82.0   20.0              24500           24500   \n",
       "\n",
       "                         Department  Rising  \n",
       "2  Computer Science and Engineering    2000  \n",
       "1  Computer Science and Engineering     340  \n",
       "2  Computer Science and Engineering       0  \n",
       "1  Computer Science and Engineering       0  \n",
       "0  Computer Science and Engineering       0  "
      ]
     },
     "execution_count": 17,
     "metadata": {},
     "output_type": "execute_result"
    }
   ],
   "source": [
    "cs=cs.sort_values(by=['CodeKata Score'])\n",
    "cs\n",
    "cs=cs.iloc[-5:]\n",
    "cs"
   ]
  },
  {
   "cell_type": "code",
   "execution_count": 18,
   "metadata": {
    "id": "-7fHXF2Qv03M"
   },
   "outputs": [
    {
     "data": {
      "text/html": [
       "<div>\n",
       "<style scoped>\n",
       "    .dataframe tbody tr th:only-of-type {\n",
       "        vertical-align: middle;\n",
       "    }\n",
       "\n",
       "    .dataframe tbody tr th {\n",
       "        vertical-align: top;\n",
       "    }\n",
       "\n",
       "    .dataframe thead th {\n",
       "        text-align: right;\n",
       "    }\n",
       "</style>\n",
       "<table border=\"1\" class=\"dataframe\">\n",
       "  <thead>\n",
       "    <tr style=\"text-align: right;\">\n",
       "      <th></th>\n",
       "      <th>Name</th>\n",
       "      <th>python</th>\n",
       "      <th>mysql</th>\n",
       "      <th>Previous Geekions</th>\n",
       "      <th>CodeKata Score</th>\n",
       "      <th>Department</th>\n",
       "      <th>Rising</th>\n",
       "    </tr>\n",
       "  </thead>\n",
       "  <tbody>\n",
       "    <tr>\n",
       "      <th>6</th>\n",
       "      <td>KALAIARASAN K</td>\n",
       "      <td>85.0</td>\n",
       "      <td>47.0</td>\n",
       "      <td>7750</td>\n",
       "      <td>7880</td>\n",
       "      <td>Electronics and Communication Engineering</td>\n",
       "      <td>130</td>\n",
       "    </tr>\n",
       "    <tr>\n",
       "      <th>8</th>\n",
       "      <td>J.SUGANTHI</td>\n",
       "      <td>27.0</td>\n",
       "      <td>50.0</td>\n",
       "      <td>5860</td>\n",
       "      <td>5860</td>\n",
       "      <td>Electronics and Communication Engineering</td>\n",
       "      <td>0</td>\n",
       "    </tr>\n",
       "    <tr>\n",
       "      <th>10</th>\n",
       "      <td>Iyappan Samiraj</td>\n",
       "      <td>50.0</td>\n",
       "      <td>24.0</td>\n",
       "      <td>5400</td>\n",
       "      <td>5400</td>\n",
       "      <td>Electronics and Communication Engineering</td>\n",
       "      <td>0</td>\n",
       "    </tr>\n",
       "    <tr>\n",
       "      <th>14</th>\n",
       "      <td>Melvin Dukles.R</td>\n",
       "      <td>56.0</td>\n",
       "      <td>20.0</td>\n",
       "      <td>4800</td>\n",
       "      <td>4800</td>\n",
       "      <td>Electronics and Communication Engineering</td>\n",
       "      <td>0</td>\n",
       "    </tr>\n",
       "    <tr>\n",
       "      <th>17</th>\n",
       "      <td>v.vithyasri</td>\n",
       "      <td>100.0</td>\n",
       "      <td>12.0</td>\n",
       "      <td>4370</td>\n",
       "      <td>4370</td>\n",
       "      <td>Electronics and Communication Engineering</td>\n",
       "      <td>0</td>\n",
       "    </tr>\n",
       "  </tbody>\n",
       "</table>\n",
       "</div>"
      ],
      "text/plain": [
       "               Name  python  mysql  Previous Geekions  CodeKata Score  \\\n",
       "6     KALAIARASAN K    85.0   47.0               7750            7880   \n",
       "8        J.SUGANTHI    27.0   50.0               5860            5860   \n",
       "10  Iyappan Samiraj    50.0   24.0               5400            5400   \n",
       "14  Melvin Dukles.R    56.0   20.0               4800            4800   \n",
       "17      v.vithyasri   100.0   12.0               4370            4370   \n",
       "\n",
       "                                   Department  Rising  \n",
       "6   Electronics and Communication Engineering     130  \n",
       "8   Electronics and Communication Engineering       0  \n",
       "10  Electronics and Communication Engineering       0  \n",
       "14  Electronics and Communication Engineering       0  \n",
       "17  Electronics and Communication Engineering       0  "
      ]
     },
     "execution_count": 18,
     "metadata": {},
     "output_type": "execute_result"
    }
   ],
   "source": [
    "ec.head()"
   ]
  },
  {
   "cell_type": "code",
   "execution_count": 19,
   "metadata": {},
   "outputs": [
    {
     "data": {
      "text/html": [
       "<div>\n",
       "<style scoped>\n",
       "    .dataframe tbody tr th:only-of-type {\n",
       "        vertical-align: middle;\n",
       "    }\n",
       "\n",
       "    .dataframe tbody tr th {\n",
       "        vertical-align: top;\n",
       "    }\n",
       "\n",
       "    .dataframe thead th {\n",
       "        text-align: right;\n",
       "    }\n",
       "</style>\n",
       "<table border=\"1\" class=\"dataframe\">\n",
       "  <thead>\n",
       "    <tr style=\"text-align: right;\">\n",
       "      <th></th>\n",
       "      <th>Name</th>\n",
       "      <th>python</th>\n",
       "      <th>mysql</th>\n",
       "      <th>Previous Geekions</th>\n",
       "      <th>CodeKata Score</th>\n",
       "      <th>Department</th>\n",
       "      <th>Rising</th>\n",
       "    </tr>\n",
       "  </thead>\n",
       "  <tbody>\n",
       "    <tr>\n",
       "      <th>16</th>\n",
       "      <td>Guhan S</td>\n",
       "      <td>-1.0</td>\n",
       "      <td>35.0</td>\n",
       "      <td>7310</td>\n",
       "      <td>7630</td>\n",
       "      <td>Electronics and Communication Engineering</td>\n",
       "      <td>320</td>\n",
       "    </tr>\n",
       "    <tr>\n",
       "      <th>14</th>\n",
       "      <td>Praneetha</td>\n",
       "      <td>-1.0</td>\n",
       "      <td>100.0</td>\n",
       "      <td>7170</td>\n",
       "      <td>7730</td>\n",
       "      <td>Electronics and Communication Engineering</td>\n",
       "      <td>560</td>\n",
       "    </tr>\n",
       "    <tr>\n",
       "      <th>6</th>\n",
       "      <td>KALAIARASAN K</td>\n",
       "      <td>85.0</td>\n",
       "      <td>47.0</td>\n",
       "      <td>7750</td>\n",
       "      <td>7880</td>\n",
       "      <td>Electronics and Communication Engineering</td>\n",
       "      <td>130</td>\n",
       "    </tr>\n",
       "    <tr>\n",
       "      <th>7</th>\n",
       "      <td>Gowtham R</td>\n",
       "      <td>-1.0</td>\n",
       "      <td>4.0</td>\n",
       "      <td>8650</td>\n",
       "      <td>8650</td>\n",
       "      <td>Electronics and Communication Engineering</td>\n",
       "      <td>0</td>\n",
       "    </tr>\n",
       "    <tr>\n",
       "      <th>3</th>\n",
       "      <td>Bodipudi Harini</td>\n",
       "      <td>-1.0</td>\n",
       "      <td>35.0</td>\n",
       "      <td>10040</td>\n",
       "      <td>10040</td>\n",
       "      <td>Electronics and Communication Engineering</td>\n",
       "      <td>0</td>\n",
       "    </tr>\n",
       "  </tbody>\n",
       "</table>\n",
       "</div>"
      ],
      "text/plain": [
       "               Name  python  mysql  Previous Geekions  CodeKata Score  \\\n",
       "16          Guhan S    -1.0   35.0               7310            7630   \n",
       "14        Praneetha    -1.0  100.0               7170            7730   \n",
       "6     KALAIARASAN K    85.0   47.0               7750            7880   \n",
       "7         Gowtham R    -1.0    4.0               8650            8650   \n",
       "3   Bodipudi Harini    -1.0   35.0              10040           10040   \n",
       "\n",
       "                                   Department  Rising  \n",
       "16  Electronics and Communication Engineering     320  \n",
       "14  Electronics and Communication Engineering     560  \n",
       "6   Electronics and Communication Engineering     130  \n",
       "7   Electronics and Communication Engineering       0  \n",
       "3   Electronics and Communication Engineering       0  "
      ]
     },
     "execution_count": 19,
     "metadata": {},
     "output_type": "execute_result"
    }
   ],
   "source": [
    "ec=ec.sort_values(by=['CodeKata Score'])\n",
    "ec.tail()\n",
    "ec=ec.iloc[-5:]\n",
    "ec"
   ]
  },
  {
   "cell_type": "code",
   "execution_count": 20,
   "metadata": {
    "id": "sFJqMtUuv03M"
   },
   "outputs": [
    {
     "data": {
      "text/html": [
       "<div>\n",
       "<style scoped>\n",
       "    .dataframe tbody tr th:only-of-type {\n",
       "        vertical-align: middle;\n",
       "    }\n",
       "\n",
       "    .dataframe tbody tr th {\n",
       "        vertical-align: top;\n",
       "    }\n",
       "\n",
       "    .dataframe thead th {\n",
       "        text-align: right;\n",
       "    }\n",
       "</style>\n",
       "<table border=\"1\" class=\"dataframe\">\n",
       "  <thead>\n",
       "    <tr style=\"text-align: right;\">\n",
       "      <th></th>\n",
       "      <th>Name</th>\n",
       "      <th>python</th>\n",
       "      <th>mysql</th>\n",
       "      <th>Previous Geekions</th>\n",
       "      <th>CodeKata Score</th>\n",
       "      <th>Department</th>\n",
       "      <th>Rising</th>\n",
       "    </tr>\n",
       "  </thead>\n",
       "  <tbody>\n",
       "    <tr>\n",
       "      <th>64</th>\n",
       "      <td>k.parvathi</td>\n",
       "      <td>100.0</td>\n",
       "      <td>100.0</td>\n",
       "      <td>260</td>\n",
       "      <td>260</td>\n",
       "      <td>Electronics and Electrical Engineering</td>\n",
       "      <td>0</td>\n",
       "    </tr>\n",
       "    <tr>\n",
       "      <th>71</th>\n",
       "      <td>m.keerthana</td>\n",
       "      <td>97.5</td>\n",
       "      <td>0.0</td>\n",
       "      <td>120</td>\n",
       "      <td>120</td>\n",
       "      <td>Electronics and Electrical Engineering</td>\n",
       "      <td>0</td>\n",
       "    </tr>\n",
       "    <tr>\n",
       "      <th>72</th>\n",
       "      <td>Subhashini</td>\n",
       "      <td>100.0</td>\n",
       "      <td>4.0</td>\n",
       "      <td>120</td>\n",
       "      <td>120</td>\n",
       "      <td>Electronics and Electrical Engineering</td>\n",
       "      <td>0</td>\n",
       "    </tr>\n",
       "    <tr>\n",
       "      <th>74</th>\n",
       "      <td>J.Bhuvaneshwari</td>\n",
       "      <td>100.0</td>\n",
       "      <td>20.0</td>\n",
       "      <td>100</td>\n",
       "      <td>100</td>\n",
       "      <td>Electronics and Electrical Engineering</td>\n",
       "      <td>0</td>\n",
       "    </tr>\n",
       "    <tr>\n",
       "      <th>75</th>\n",
       "      <td>santhosh</td>\n",
       "      <td>82.0</td>\n",
       "      <td>12.0</td>\n",
       "      <td>60</td>\n",
       "      <td>60</td>\n",
       "      <td>Electronics and Electrical Engineering</td>\n",
       "      <td>0</td>\n",
       "    </tr>\n",
       "  </tbody>\n",
       "</table>\n",
       "</div>"
      ],
      "text/plain": [
       "               Name  python  mysql  Previous Geekions  CodeKata Score  \\\n",
       "64       k.parvathi   100.0  100.0                260             260   \n",
       "71      m.keerthana    97.5    0.0                120             120   \n",
       "72       Subhashini   100.0    4.0                120             120   \n",
       "74  J.Bhuvaneshwari   100.0   20.0                100             100   \n",
       "75         santhosh    82.0   12.0                 60              60   \n",
       "\n",
       "                                Department  Rising  \n",
       "64  Electronics and Electrical Engineering       0  \n",
       "71  Electronics and Electrical Engineering       0  \n",
       "72  Electronics and Electrical Engineering       0  \n",
       "74  Electronics and Electrical Engineering       0  \n",
       "75  Electronics and Electrical Engineering       0  "
      ]
     },
     "execution_count": 20,
     "metadata": {},
     "output_type": "execute_result"
    }
   ],
   "source": [
    "eee.head()"
   ]
  },
  {
   "cell_type": "code",
   "execution_count": 21,
   "metadata": {
    "id": "oQ5zGqU1v03M"
   },
   "outputs": [
    {
     "data": {
      "text/html": [
       "<div>\n",
       "<style scoped>\n",
       "    .dataframe tbody tr th:only-of-type {\n",
       "        vertical-align: middle;\n",
       "    }\n",
       "\n",
       "    .dataframe tbody tr th {\n",
       "        vertical-align: top;\n",
       "    }\n",
       "\n",
       "    .dataframe thead th {\n",
       "        text-align: right;\n",
       "    }\n",
       "</style>\n",
       "<table border=\"1\" class=\"dataframe\">\n",
       "  <thead>\n",
       "    <tr style=\"text-align: right;\">\n",
       "      <th></th>\n",
       "      <th>Name</th>\n",
       "      <th>python</th>\n",
       "      <th>mysql</th>\n",
       "      <th>Previous Geekions</th>\n",
       "      <th>CodeKata Score</th>\n",
       "      <th>Department</th>\n",
       "      <th>Rising</th>\n",
       "    </tr>\n",
       "  </thead>\n",
       "  <tbody>\n",
       "    <tr>\n",
       "      <th>12</th>\n",
       "      <td>JPradhap</td>\n",
       "      <td>100.0</td>\n",
       "      <td>0.0</td>\n",
       "      <td>7340</td>\n",
       "      <td>8030</td>\n",
       "      <td>Electronics and Electrical Engineering</td>\n",
       "      <td>690</td>\n",
       "    </tr>\n",
       "    <tr>\n",
       "      <th>9</th>\n",
       "      <td>Balaji</td>\n",
       "      <td>-1.0</td>\n",
       "      <td>20.0</td>\n",
       "      <td>6170</td>\n",
       "      <td>8160</td>\n",
       "      <td>Electronics and Electrical Engineering</td>\n",
       "      <td>1990</td>\n",
       "    </tr>\n",
       "    <tr>\n",
       "      <th>8</th>\n",
       "      <td>shifak N</td>\n",
       "      <td>58.0</td>\n",
       "      <td>0.0</td>\n",
       "      <td>5180</td>\n",
       "      <td>8320</td>\n",
       "      <td>Electronics and Electrical Engineering</td>\n",
       "      <td>3140</td>\n",
       "    </tr>\n",
       "    <tr>\n",
       "      <th>4</th>\n",
       "      <td>VIINU V P</td>\n",
       "      <td>-1.0</td>\n",
       "      <td>24.0</td>\n",
       "      <td>9150</td>\n",
       "      <td>9150</td>\n",
       "      <td>Electronics and Electrical Engineering</td>\n",
       "      <td>0</td>\n",
       "    </tr>\n",
       "    <tr>\n",
       "      <th>0</th>\n",
       "      <td>ASHOK KUMAR K</td>\n",
       "      <td>100.0</td>\n",
       "      <td>31.0</td>\n",
       "      <td>19400</td>\n",
       "      <td>19400</td>\n",
       "      <td>Electronics and Electrical Engineering</td>\n",
       "      <td>0</td>\n",
       "    </tr>\n",
       "  </tbody>\n",
       "</table>\n",
       "</div>"
      ],
      "text/plain": [
       "             Name  python  mysql  Previous Geekions  CodeKata Score  \\\n",
       "12       JPradhap   100.0    0.0               7340            8030   \n",
       "9         Balaji     -1.0   20.0               6170            8160   \n",
       "8        shifak N    58.0    0.0               5180            8320   \n",
       "4       VIINU V P    -1.0   24.0               9150            9150   \n",
       "0   ASHOK KUMAR K   100.0   31.0              19400           19400   \n",
       "\n",
       "                                Department  Rising  \n",
       "12  Electronics and Electrical Engineering     690  \n",
       "9   Electronics and Electrical Engineering    1990  \n",
       "8   Electronics and Electrical Engineering    3140  \n",
       "4   Electronics and Electrical Engineering       0  \n",
       "0   Electronics and Electrical Engineering       0  "
      ]
     },
     "execution_count": 21,
     "metadata": {},
     "output_type": "execute_result"
    }
   ],
   "source": [
    "eee=eee.sort_values(by=['CodeKata Score'])\n",
    "eee.tail()\n",
    "eee=eee.iloc[-5:]\n",
    "eee"
   ]
  },
  {
   "cell_type": "code",
   "execution_count": 29,
   "metadata": {},
   "outputs": [
    {
     "data": {
      "image/png": "[encoded data removed]",
      "text/plain": [
       "<Figure size 432x288 with 1 Axes>"
      ]
     },
     "metadata": {
      "needs_background": "light"
     },
     "output_type": "display_data"
    }
   ],
   "source": [
    "y=cs[\"Name\"]\n",
    "\n",
    "x=cs['CodeKata Score']\n",
    "plt.barh(y, x)\n",
    "\n",
    "plt.xlabel(\"Top students\")\n",
    "\n",
    "plt.ylabel(\"CodeKata Score\")  \n",
    "plt.title(\"Toppers in cs deportment\")\n",
    "plt.show()"
   ]
  },
  {
   "cell_type": "code",
   "execution_count": 30,
   "metadata": {},
   "outputs": [
    {
     "data": {
      "image/png": "[encoded data removed]",
      "text/plain": [
       "<Figure size 432x288 with 1 Axes>"
      ]
     },
     "metadata": {
      "needs_background": "light"
     },
     "output_type": "display_data"
    }
   ],
   "source": [
    "y=ec[\"Name\"]\n",
    "\n",
    "x=ec['CodeKata Score']\n",
    "plt.barh(y, x)\n",
    "\n",
    "plt.xlabel(\"Top students\")\n",
    "\n",
    "plt.ylabel(\"CodeKata Score\")  \n",
    "plt.title(\"Toppers in ec deportment\")\n",
    "plt.show()"
   ]
  },
  {
   "cell_type": "code",
   "execution_count": 31,
   "metadata": {},
   "outputs": [
    {
     "data": {
      "image/png": "[encoded data removed]",
      "text/plain": [
       "<Figure size 432x288 with 1 Axes>"
      ]
     },
     "metadata": {
      "needs_background": "light"
     },
     "output_type": "display_data"
    }
   ],
   "source": [
    "y=eee[\"Name\"]\n",
    "\n",
    "x=eee['CodeKata Score']\n",
    "plt.barh(y, x)\n",
    "\n",
    "plt.xlabel(\"Top students\")\n",
    "\n",
    "plt.ylabel(\"CodeKata Score\")  \n",
    "plt.title(\"Toppers in eee deportment\")\n",
    "plt.show()"
   ]
  },
  {
   "cell_type": "code",
   "execution_count": null,
   "metadata": {},
   "outputs": [],
   "source": []
  }
 ],
 "metadata": {
  "colab": {
   "provenance": []
  },
  "kernelspec": {
   "display_name": "Python 3 (ipykernel)",
   "language": "python",
   "name": "python3"
  },
  "language_info": {
   "codemirror_mode": {
    "name": "ipython",
    "version": 3
   },
   "file_extension": ".py",
   "mimetype": "text/x-python",
   "name": "python",
   "nbconvert_exporter": "python",
   "pygments_lexer": "ipython3",
   "version": "3.9.12"
  }
 },
 "nbformat": 4,
 "nbformat_minor": 1
}
